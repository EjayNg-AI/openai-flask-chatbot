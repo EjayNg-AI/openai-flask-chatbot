{
 "cells": [
  {
   "cell_type": "code",
   "execution_count": 3,
   "metadata": {},
   "outputs": [
    {
     "ename": "ModuleNotFoundError",
     "evalue": "No module named 'openai'",
     "output_type": "error",
     "traceback": [
      "\u001b[1;31m---------------------------------------------------------------------------\u001b[0m",
      "\u001b[1;31mModuleNotFoundError\u001b[0m                       Traceback (most recent call last)",
      "Cell \u001b[1;32mIn[3], line 4\u001b[0m\n\u001b[0;32m      2\u001b[0m \u001b[38;5;28;01mimport\u001b[39;00m \u001b[38;5;21;01mos\u001b[39;00m\n\u001b[0;32m      3\u001b[0m \u001b[38;5;28;01mimport\u001b[39;00m \u001b[38;5;21;01mcopy\u001b[39;00m\n\u001b[1;32m----> 4\u001b[0m \u001b[38;5;28;01mfrom\u001b[39;00m \u001b[38;5;21;01mopenai\u001b[39;00m \u001b[38;5;28;01mimport\u001b[39;00m OpenAI\n\u001b[0;32m      5\u001b[0m \u001b[38;5;28;01mimport\u001b[39;00m \u001b[38;5;21;01manthropic\u001b[39;00m\n\u001b[0;32m      6\u001b[0m \u001b[38;5;28;01mfrom\u001b[39;00m \u001b[38;5;21;01mdotenv\u001b[39;00m \u001b[38;5;28;01mimport\u001b[39;00m load_dotenv\n",
      "\u001b[1;31mModuleNotFoundError\u001b[0m: No module named 'openai'"
     ]
    }
   ],
   "source": [
    "import sys\n",
    "import os\n",
    "import copy\n",
    "from openai import OpenAI\n",
    "import anthropic\n",
    "from dotenv import load_dotenv\n",
    "from flask_session import Session\n",
    "from waitress import serve \n",
    "import logging\n",
    "from typing import Generator, Dict\n",
    "from datetime import datetime, UTC\n",
    "import uuid\n",
    "\n",
    "SYSTEM_MESSAGE = \"You are an expert in coding. \" \\\n",
    "\"Write code that is clean, efficient, modular, and well-documented. \" \\\n",
    "\"Ensure all code block are encased with triple backticks\"\n",
    "\n",
    "model_name = \"chatgpt-4o-latest\"\n",
    "arguments = []\n",
    "\n",
    "# Load environment variables from .env file\n",
    "load_dotenv()\n",
    "\n",
    "# Configure logging with proper error handling\n",
    "logging.basicConfig(\n",
    "    level=logging.DEBUG,\n",
    "    filename='app.log',\n",
    "    format='%(asctime)s %(levelname)s %(name)s %(threadName)s : %(message)s'\n",
    ")\n",
    "logger = logging.getLogger(__name__)\n",
    "\n",
    "# Initialize OpenAI client with error handling\n",
    "try:\n",
    "    api_key = os.getenv(\"OPENAI_API_KEY\")\n",
    "    if not api_key:\n",
    "        raise ValueError(\"OPENAI_API_KEY environment variable is not set\")\n",
    "    client = OpenAI(api_key=api_key)\n",
    "except Exception as e:\n",
    "    if \"openai\" in arguments or \"chatgpt\" in arguments:\n",
    "        logger.critical(f\"Failed to initialize OpenAI client: {e}\")\n",
    "        raise\n",
    "    else:\n",
    "        logger.info(\"OpenAI client initialization skipped.\")\n",
    "        client = None  # Explicitly set client to None if initialization fails or skipped"
   ]
  }
 ],
 "metadata": {
  "kernelspec": {
   "display_name": "Python 3",
   "language": "python",
   "name": "python3"
  },
  "language_info": {
   "codemirror_mode": {
    "name": "ipython",
    "version": 3
   },
   "file_extension": ".py",
   "mimetype": "text/x-python",
   "name": "python",
   "nbconvert_exporter": "python",
   "pygments_lexer": "ipython3",
   "version": "3.11.9"
  }
 },
 "nbformat": 4,
 "nbformat_minor": 2
}
